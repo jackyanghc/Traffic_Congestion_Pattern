{
 "cells": [
  {
   "cell_type": "markdown",
   "metadata": {},
   "source": [
    "# Using Python Get Data From Baidu API"
   ]
  },
  {
   "cell_type": "code",
   "execution_count": 1,
   "metadata": {},
   "outputs": [],
   "source": [
    "#coding=utf-8\n",
    "import json\n",
    "import geopandas\n",
    "import matplotlib.pyplot as plt\n",
    "import requests\n",
    "from shapely.geometry import LineString\n",
    "import time\n",
    "import os"
   ]
  },
  {
   "cell_type": "code",
   "execution_count": 2,
   "metadata": {
    "code_folding": []
   },
   "outputs": [],
   "source": [
    "BASE_URL = 'https://restapi.amap.com/v3/traffic/status/rectangle?rectangle={loc}&key={k}&extensions=all'\n",
    "keys = [\n",
    "    '0f77fda9a61b3fa8ae32f99b2eabe534', 'ac644665b36b3ca24b4a7abe54661efb',\n",
    "    'd718d4a3addce3439b3df02c0e8b599c',\"2b239cb466670c8379747913be5ba79e\"\n",
    "]\n",
    "Loc_of_Shanghai = '121.473658,31.230378'\n",
    "key_flag = 3\n",
    "Lines = []\n",
    "Names = []\n",
    "Speeds = []\n",
    "Status = []\n",
    "Lenghts = []\n",
    "Lcodes = []\n",
    "Timestamps = []"
   ]
  },
  {
   "cell_type": "code",
   "execution_count": 3,
   "metadata": {
    "code_folding": []
   },
   "outputs": [],
   "source": [
    "class Grid(object):\n",
    "    def __init__(self, loc_all):\n",
    "        self.loc_all = loc_all\n",
    "        self.lng_sw = float(self.loc_all.split(',')[0])\n",
    "        self.lat_sw = float(self.loc_all.split(',')[1])\n",
    "        self.max = 0.06\n",
    "\n",
    "    def get_max(self):\n",
    "        for i in range(1, 10):\n",
    "            data = str(self.lng_sw) + \",\" + str(self.lat_sw) + ';' + str(\n",
    "                self.lng_sw + i / 100) + ',' + str(self.lat_sw + i / 100)\n",
    "            print(i)\n",
    "            url = BASE_URL.format(loc=data, k=keys[key_flag])\n",
    "            print(url)\n",
    "            res = requests.get(url)\n",
    "            datas = res.json()\n",
    "            if datas['status'] != '1':\n",
    "                print(\n",
    "                    \"the maxium of distance is\",\n",
    "                    i,\n",
    "                )\n",
    "                break\n",
    "\n",
    "    def get_grid(self):\n",
    "        grid = []\n",
    "        lng = []\n",
    "        lat = []\n",
    "        for i in range(-5,3):\n",
    "            lng.append(self.lng_sw + self.max * i)\n",
    "            lat.append(self.lat_sw + self.max * i)\n",
    "        for i in range(8):\n",
    "            for j in range(8):\n",
    "                data = str(lng[i])+','+str(lat[j])+';'+str(lng[i]+self.max)+','+str(lat[j]+self.max)\n",
    "                grid.append(data)\n",
    "        return grid"
   ]
  },
  {
   "cell_type": "code",
   "execution_count": 4,
   "metadata": {},
   "outputs": [],
   "source": [
    "loc = Grid(Loc_of_Shanghai)\n",
    "locs= loc.get_grid()"
   ]
  },
  {
   "cell_type": "code",
   "execution_count": 5,
   "metadata": {},
   "outputs": [],
   "source": [
    "#coding=utf-8\n",
    "\n",
    "def request_map_one_minute():\n",
    "    Times = time.strftime('%Y_%m_%d %H:%M:%S',time.localtime())\n",
    "    global Lines, Names, Speeds, Status, Lenghts, Lcodes, Timestamps, locs, key\n",
    "#     all_datas = []\n",
    "    for i in locs:\n",
    "        url = BASE_URL.format(loc=i, k=keys[3])\n",
    "#         print(url)\n",
    "        res = requests.get(url)\n",
    "        datas = res.json()\n",
    "#         all_datas.append(datas)\n",
    "        if datas['status'] == '1':\n",
    "            for road in datas['trafficinfo']['roads']:\n",
    "                polyline = road['polyline']\n",
    "                polylines = [\n",
    "                    (float(y[0]), float(y[1])) for y in\n",
    "                    [x.split(',') for x in [i for i in polyline.split(';')]]\n",
    "                ]\n",
    "                line = LineString(polylines)\n",
    "                Lines.append(line)\n",
    "                Names.append(road['name'])\n",
    "                Lcodes.append(road['lcodes'])\n",
    "                Timestamps.append(Times)\n",
    "                if 'speed' in road: Speeds.append(int(road['speed']))\n",
    "                else: Speeds.append(100)\n",
    "                Status.append(road['status'])\n",
    "                Lenghts.append(line.length)\n",
    "        else:\n",
    "            if datas['infocode'] == '10003':\n",
    "                key_flag = (key_flag + 1)%len(keys)\n",
    "            if datas['infocode'] == '20003':\n",
    "                continue\n",
    "            else:\n",
    "                print(\"Error of status\",datas['infocode'])\n",
    "#     with open(\"record.json\",\"w\") as f:\n",
    "#         json.dump(all_datas,f)\n",
    "#         print(\"加载入文件完成...\")\n",
    "\n",
    "\n",
    "def plot_show(pds_dict):\n",
    "    ShangHai = geopandas.GeoDataFrame(pds_dict)\n",
    "    #     ShangHai.to_file(\"shanghai.shp\")\n",
    "    #     ShangHai = geopandas.read_file(\"shanghai.shp\")\n",
    "    ShangHai.plot(column='speed', cmap='RdYlGn', legend=True)\n",
    "    plt.figure(dpi=400)\n",
    "    plt.show()\n",
    "\n",
    "\n",
    "def save_to_file(data):\n",
    "    datas = geopandas.GeoDataFrame(data)\n",
    "    ti = \"Shanghai_\" + str(\n",
    "        str(time.localtime()[1]) + '_' + str(time.localtime()[2]) + '_' +\n",
    "        str(time.localtime()[3]))\n",
    "    datas.to_file(ti,encoding='utf-8')"
   ]
  },
  {
   "cell_type": "code",
   "execution_count": null,
   "metadata": {},
   "outputs": [
    {
     "name": "stdout",
     "output_type": "stream",
     "text": [
      "[2019-11-21 16:06:51] Starting every 120 seconds during 6:00 -- 21:00.\n",
      "[2019-11-21 16:06:51] Sleeping until Thu Nov 21 16:08:00 2019 (68.74923706054688 seconds)...\n",
      "[2019-11-21 16:08:09] Starting command.\n",
      "[2019-11-21 16:08:09] ----------------------------------------------------------------------------------------------------\n",
      "[2019-11-21 16:08:09] Sleeping until Thu Nov 21 16:10:00 2019 (110.49491000175476 seconds)...\n"
     ]
    }
   ],
   "source": [
    "def print_ts(message):\n",
    "    print (\"[%s] %s\"%(time.strftime(\"%Y-%m-%d %H:%M:%S\", time.localtime()), message))\n",
    "\n",
    "def run(interval, command):\n",
    "    print_ts(\"Starting every %s seconds during 6:00 -- 21:00.\"%interval)\n",
    "    global Lines,Names,Speeds,Status,Lenghts,Lcodes,Timestamps,locs,key\n",
    "    Start_hour =16\n",
    "    while True:\n",
    "        T_hour = time.localtime()[3]\n",
    "        if T_hour >= 6 and T_hour <= 21:\n",
    "            if T_hour != Start_hour:\n",
    "                datas = {'name':Names,'Timestamp':Timestamps,'Lcode':Lcodes,\"speed\":Speeds,'CongestionRate':Status,'lenght':Lenghts,\"geometry\":Lines}\n",
    "                save_to_file(datas)\n",
    "                print_ts(\"Finish Save to file\")\n",
    "                Start_hour = T_hour\n",
    "                Lines.clear()\n",
    "                Names.clear()\n",
    "                Speeds.clear()\n",
    "                Status.clear()\n",
    "                Lenghts.clear()\n",
    "                Lcodes.clear()\n",
    "                Timestamps.clear()\n",
    "            # sleep for the remaining seconds of interval\n",
    "            # execute the command\n",
    "            time_remaining = interval-time.time()%interval\n",
    "            print_ts(\"Sleeping until %s (%s seconds)...\"%((time.ctime(time.time()+time_remaining)), time_remaining))\n",
    "            time.sleep(time_remaining)\n",
    "            try :\n",
    "                request_map_one_minute()\n",
    "            except:\n",
    "                print(\"Error\")\n",
    "            print_ts(\"Starting command.\")\n",
    "            print_ts(\"-\"*100)\n",
    "        else:\n",
    "            time.sleep(time_remaining*command)\n",
    "            \n",
    "if __name__==\"__main__\":\n",
    "    interval = 120\n",
    "    command  = 100\n",
    "    run(interval, command)"
   ]
  },
  {
   "cell_type": "code",
   "execution_count": null,
   "metadata": {},
   "outputs": [],
   "source": [
    "#coding=utf-8\n",
    "request_map_one_minute()\n",
    "datas = {'name':Names,'Timestamp':Timestamps,'Lcode':Lcodes,\"speed\":Speeds,'CongestionRate':Status,'lenght':Lenghts,\"geometry\":Lines}\n",
    "plot_show(datas)"
   ]
  },
  {
   "cell_type": "code",
   "execution_count": null,
   "metadata": {},
   "outputs": [],
   "source": []
  }
 ],
 "metadata": {
  "kernelspec": {
   "display_name": "Python 3",
   "language": "python",
   "name": "python3"
  },
  "language_info": {
   "codemirror_mode": {
    "name": "ipython",
    "version": 3
   },
   "file_extension": ".py",
   "mimetype": "text/x-python",
   "name": "python",
   "nbconvert_exporter": "python",
   "pygments_lexer": "ipython3",
   "version": "3.7.4"
  }
 },
 "nbformat": 4,
 "nbformat_minor": 2
}
