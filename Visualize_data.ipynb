{
 "cells": [
  {
   "cell_type": "markdown",
   "metadata": {},
   "source": [
    "# Visualize the data "
   ]
  },
  {
   "cell_type": "code",
   "execution_count": 11,
   "metadata": {
    "scrolled": true
   },
   "outputs": [],
   "source": [
    "#coding=utf-8\n",
    "import json\n",
    "import geopandas\n",
    "import matplotlib.pyplot as plt\n",
    "import requests\n",
    "import pandas as pd\n",
    "from shapely.geometry import LineString\n",
    "import time\n",
    "import os\n",
    "import numpy as np\n",
    "import matplotlib as mpl\n",
    "import seaborn as sns#添加Seaborn模块"
   ]
  },
  {
   "cell_type": "code",
   "execution_count": 2,
   "metadata": {
    "scrolled": true
   },
   "outputs": [],
   "source": [
    " def plot_show(data) :\n",
    "    data.plot(column='speed', cmap='RdYlGn', legend=True)\n",
    "    plt.show()"
   ]
  },
  {
   "cell_type": "code",
   "execution_count": 6,
   "metadata": {
    "scrolled": true
   },
   "outputs": [
    {
     "name": "stdout",
     "output_type": "stream",
     "text": [
      "         name            Timestamp  \\\n",
      "0       申嘉湖高速  2019_11_20 19:02:00   \n",
      "1       申嘉湖高速  2019_11_20 19:02:00   \n",
      "2      上海绕城高速  2019_11_20 19:02:00   \n",
      "3      上海绕城高速  2019_11_20 19:02:00   \n",
      "4       ３２４省道  2019_11_20 19:02:00   \n",
      "...       ...                  ...   \n",
      "92128     华申路  2019_11_21 12:00:00   \n",
      "92129     华申路  2019_11_21 12:00:00   \n",
      "92130    五洲大道  2019_11_21 12:00:00   \n",
      "92131     申江路  2019_11_21 12:00:00   \n",
      "92132     东靖路  2019_11_21 12:00:00   \n",
      "\n",
      "                                                   Lcode  speed Congestion  \\\n",
      "0      4054,4056,4061,4063,4604,4066,4069,4070,4072,4...     95          1   \n",
      "1      -4084,-4083,-4079,-4078,-4076,-4072,-4070,-406...     95          1   \n",
      "2      2011,2010,2009,2008,2007,2006,2005,2392,2001,2000     80          1   \n",
      "3      -1994,-1995,-1996,-1998,-2000,-2001,-2392,-200...     80          1   \n",
      "4      4096,4098,4106,4107,4110,4116,4127,4128,4129,4...     45          1   \n",
      "...                                                  ...    ...        ...   \n",
      "92128                                     5088,5089,5090     35          1   \n",
      "92129                                        -5089,-5088     40          1   \n",
      "92130                      -2457,-5104,-2455,-2453,-2452    100          0   \n",
      "92131  -2450,-1334,-1333,-1332,-1331,-4635,-1330,-132...    100          0   \n",
      "92132                                1412,4435,1413,1414    100          0   \n",
      "\n",
      "         lenght                                           geometry  \n",
      "0      0.827757  LINESTRING (120.99678 30.94682, 120.99790 30.9...  \n",
      "1      0.827588  LINESTRING (121.79185 31.09912, 121.78603 31.0...  \n",
      "2      0.422366  LINESTRING (121.21579 30.88882, 121.21603 30.8...  \n",
      "3      0.622420  LINESTRING (121.29923 31.37005, 121.29452 31.3...  \n",
      "4      0.784077  LINESTRING (121.13834 30.93422, 121.14327 30.9...  \n",
      "...         ...                                                ...  \n",
      "92128  0.011132  LINESTRING (121.59281 31.33724, 121.59303 31.3...  \n",
      "92129  0.011112  LINESTRING (121.60287 31.34188, 121.60216 31.3...  \n",
      "92130  0.075826  LINESTRING (121.65006 31.30394, 121.64932 31.3...  \n",
      "92131  0.103527  LINESTRING (121.62528 31.30398, 121.62528 31.3...  \n",
      "92132  0.021449  LINESTRING (121.60423 31.29141, 121.60439 31.2...  \n",
      "\n",
      "[1432804 rows x 7 columns]\n"
     ]
    }
   ],
   "source": [
    "import os\n",
    "filePath = '/Users/jackyanghc/Desktop/Jupyter/'\n",
    "filename = []\n",
    "for i,j,k in os.walk(filePath):\n",
    "    for m in j:\n",
    "        if m[0] == 'S':\n",
    "            filename.append(m)\n",
    "\n",
    "ShangHai = geopandas.read_file(filePath+filename[0],encoding='utf-8')\n",
    "for i in range(1,len(filename)):\n",
    "    tmp = geopandas.read_file(filePath+filename[i],encoding='utf-8')\n",
    "    ShangHai = pd.concat([ShangHai,tmp])\n",
    "\n",
    "print(ShangHai)"
   ]
  },
  {
   "cell_type": "code",
   "execution_count": 7,
   "metadata": {
    "scrolled": true
   },
   "outputs": [],
   "source": [
    "ShangHai = ShangHai.drop_duplicates(\n",
    "    keep='first',\n",
    "    inplace=False)\n",
    "ShangHai = ShangHai.reset_index(drop=True)"
   ]
  },
  {
   "cell_type": "code",
   "execution_count": 8,
   "metadata": {},
   "outputs": [
    {
     "data": {
      "text/html": [
       "<div>\n",
       "<style scoped>\n",
       "    .dataframe tbody tr th:only-of-type {\n",
       "        vertical-align: middle;\n",
       "    }\n",
       "\n",
       "    .dataframe tbody tr th {\n",
       "        vertical-align: top;\n",
       "    }\n",
       "\n",
       "    .dataframe thead th {\n",
       "        text-align: right;\n",
       "    }\n",
       "</style>\n",
       "<table border=\"1\" class=\"dataframe\">\n",
       "  <thead>\n",
       "    <tr style=\"text-align: right;\">\n",
       "      <th></th>\n",
       "      <th>name</th>\n",
       "      <th>Timestamp</th>\n",
       "      <th>Lcode</th>\n",
       "      <th>speed</th>\n",
       "      <th>Congestion</th>\n",
       "    </tr>\n",
       "  </thead>\n",
       "  <tbody>\n",
       "    <tr>\n",
       "      <td>0</td>\n",
       "      <td>申嘉湖高速</td>\n",
       "      <td>2019_11_20 19:02:00</td>\n",
       "      <td>4054,4056,4061,4063,4604,4066,4069,4070,4072,4...</td>\n",
       "      <td>95</td>\n",
       "      <td>1</td>\n",
       "    </tr>\n",
       "    <tr>\n",
       "      <td>1</td>\n",
       "      <td>申嘉湖高速</td>\n",
       "      <td>2019_11_20 19:02:00</td>\n",
       "      <td>-4084,-4083,-4079,-4078,-4076,-4072,-4070,-406...</td>\n",
       "      <td>95</td>\n",
       "      <td>1</td>\n",
       "    </tr>\n",
       "    <tr>\n",
       "      <td>2</td>\n",
       "      <td>上海绕城高速</td>\n",
       "      <td>2019_11_20 19:02:00</td>\n",
       "      <td>2011,2010,2009,2008,2007,2006,2005,2392,2001,2000</td>\n",
       "      <td>80</td>\n",
       "      <td>1</td>\n",
       "    </tr>\n",
       "    <tr>\n",
       "      <td>3</td>\n",
       "      <td>上海绕城高速</td>\n",
       "      <td>2019_11_20 19:02:00</td>\n",
       "      <td>-1994,-1995,-1996,-1998,-2000,-2001,-2392,-200...</td>\n",
       "      <td>80</td>\n",
       "      <td>1</td>\n",
       "    </tr>\n",
       "    <tr>\n",
       "      <td>4</td>\n",
       "      <td>３２４省道</td>\n",
       "      <td>2019_11_20 19:02:00</td>\n",
       "      <td>4096,4098,4106,4107,4110,4116,4127,4128,4129,4...</td>\n",
       "      <td>45</td>\n",
       "      <td>1</td>\n",
       "    </tr>\n",
       "    <tr>\n",
       "      <td>...</td>\n",
       "      <td>...</td>\n",
       "      <td>...</td>\n",
       "      <td>...</td>\n",
       "      <td>...</td>\n",
       "      <td>...</td>\n",
       "    </tr>\n",
       "    <tr>\n",
       "      <td>996408</td>\n",
       "      <td>富特东三路</td>\n",
       "      <td>2019_11_21 12:00:00</td>\n",
       "      <td>-5100,-5099</td>\n",
       "      <td>45</td>\n",
       "      <td>1</td>\n",
       "    </tr>\n",
       "    <tr>\n",
       "      <td>996409</td>\n",
       "      <td>日樱南路</td>\n",
       "      <td>2019_11_21 12:00:00</td>\n",
       "      <td>2425,2427,2430</td>\n",
       "      <td>35</td>\n",
       "      <td>1</td>\n",
       "    </tr>\n",
       "    <tr>\n",
       "      <td>996410</td>\n",
       "      <td>日樱南路</td>\n",
       "      <td>2019_11_21 12:00:00</td>\n",
       "      <td>-2427,-2425</td>\n",
       "      <td>40</td>\n",
       "      <td>1</td>\n",
       "    </tr>\n",
       "    <tr>\n",
       "      <td>996411</td>\n",
       "      <td>庭安路</td>\n",
       "      <td>2019_11_21 12:00:00</td>\n",
       "      <td>-6135,-6134</td>\n",
       "      <td>35</td>\n",
       "      <td>1</td>\n",
       "    </tr>\n",
       "    <tr>\n",
       "      <td>996412</td>\n",
       "      <td>东靖路</td>\n",
       "      <td>2019_11_21 12:00:00</td>\n",
       "      <td>1412,4435,1413,1414</td>\n",
       "      <td>100</td>\n",
       "      <td>0</td>\n",
       "    </tr>\n",
       "  </tbody>\n",
       "</table>\n",
       "<p>996413 rows × 5 columns</p>\n",
       "</div>"
      ],
      "text/plain": [
       "          name            Timestamp  \\\n",
       "0        申嘉湖高速  2019_11_20 19:02:00   \n",
       "1        申嘉湖高速  2019_11_20 19:02:00   \n",
       "2       上海绕城高速  2019_11_20 19:02:00   \n",
       "3       上海绕城高速  2019_11_20 19:02:00   \n",
       "4        ３２４省道  2019_11_20 19:02:00   \n",
       "...        ...                  ...   \n",
       "996408   富特东三路  2019_11_21 12:00:00   \n",
       "996409    日樱南路  2019_11_21 12:00:00   \n",
       "996410    日樱南路  2019_11_21 12:00:00   \n",
       "996411     庭安路  2019_11_21 12:00:00   \n",
       "996412     东靖路  2019_11_21 12:00:00   \n",
       "\n",
       "                                                    Lcode  speed Congestion  \n",
       "0       4054,4056,4061,4063,4604,4066,4069,4070,4072,4...     95          1  \n",
       "1       -4084,-4083,-4079,-4078,-4076,-4072,-4070,-406...     95          1  \n",
       "2       2011,2010,2009,2008,2007,2006,2005,2392,2001,2000     80          1  \n",
       "3       -1994,-1995,-1996,-1998,-2000,-2001,-2392,-200...     80          1  \n",
       "4       4096,4098,4106,4107,4110,4116,4127,4128,4129,4...     45          1  \n",
       "...                                                   ...    ...        ...  \n",
       "996408                                        -5100,-5099     45          1  \n",
       "996409                                     2425,2427,2430     35          1  \n",
       "996410                                        -2427,-2425     40          1  \n",
       "996411                                        -6135,-6134     35          1  \n",
       "996412                                1412,4435,1413,1414    100          0  \n",
       "\n",
       "[996413 rows x 5 columns]"
      ]
     },
     "execution_count": 8,
     "metadata": {},
     "output_type": "execute_result"
    }
   ],
   "source": [
    "information = ShangHai[['name','Timestamp','Lcode','speed','Congestion']]\n",
    "information"
   ]
  },
  {
   "cell_type": "code",
   "execution_count": 13,
   "metadata": {},
   "outputs": [
    {
     "name": "stderr",
     "output_type": "stream",
     "text": [
      "/opt/anaconda3/lib/python3.7/site-packages/ipykernel_launcher.py:9: SettingWithCopyWarning: \n",
      "A value is trying to be set on a copy of a slice from a DataFrame\n",
      "\n",
      "See the caveats in the documentation: http://pandas.pydata.org/pandas-docs/stable/user_guide/indexing.html#returning-a-view-versus-a-copy\n",
      "  if __name__ == '__main__':\n",
      "/opt/anaconda3/lib/python3.7/site-packages/pandas/core/indexing.py:205: SettingWithCopyWarning: \n",
      "A value is trying to be set on a copy of a slice from a DataFrame\n",
      "\n",
      "See the caveats in the documentation: http://pandas.pydata.org/pandas-docs/stable/user_guide/indexing.html#returning-a-view-versus-a-copy\n",
      "  self._setitem_with_indexer(indexer, value)\n",
      "/opt/anaconda3/lib/python3.7/site-packages/ipykernel_launcher.py:12: SettingWithCopyWarning: \n",
      "A value is trying to be set on a copy of a slice from a DataFrame\n",
      "\n",
      "See the caveats in the documentation: http://pandas.pydata.org/pandas-docs/stable/user_guide/indexing.html#returning-a-view-versus-a-copy\n",
      "  if sys.path[0] == '':\n"
     ]
    },
    {
     "name": "stdout",
     "output_type": "stream",
     "text": [
      "0\n",
      "1\n",
      "2\n",
      "3\n",
      "4\n",
      "5\n",
      "6\n",
      "7\n",
      "8\n",
      "9\n"
     ]
    }
   ],
   "source": [
    "# 将信息进行冗余查询\n",
    "for i in range(0,10):\n",
    "    tmp = information.loc[i]\n",
    "    codes = tmp['Lcode'].split(',')\n",
    "    number = len(codes)\n",
    "    if number == 1:\n",
    "        continue\n",
    "    else:\n",
    "        information.loc[i]['Lcode'] = codes[0]\n",
    "        print(i)\n",
    "        for j in range(1,number):\n",
    "            tmp.loc['Lcode'] = codes[j]\n",
    "            information = information.append(tmp)"
   ]
  },
  {
   "cell_type": "markdown",
   "metadata": {},
   "source": [
    "# 针对一条道路进行全天的速度和堵塞进行可视化"
   ]
  },
  {
   "cell_type": "code",
   "execution_count": 12,
   "metadata": {},
   "outputs": [],
   "source": [
    "from pyecharts import options as opts\n",
    "from pyecharts.charts import Bar\n"
   ]
  },
  {
   "cell_type": "code",
   "execution_count": 9,
   "metadata": {},
   "outputs": [],
   "source": [
    "def select_on_Lcode(lcode):\n",
    "    Road_info_time = []\n",
    "    Road_info_speed = []\n",
    "    Road_info_congest = []\n",
    "    Road_info_lcode = [lcode]\n",
    "    for i in range(0,len(information)):\n",
    "        if lcode in information.loc[i,'Lcode'].split(\",\"):\n",
    "            tmp = information.loc[i].values\n",
    "            Road_info_time.append(tmp[1])\n",
    "            Road_info_speed.append(tmp[3])\n",
    "            Road_info_congest.append(tmp[4])\n",
    "    return [Road_info_lcode,Road_info_time,Road_info_speed,Road_info_congest]"
   ]
  },
  {
   "cell_type": "code",
   "execution_count": 10,
   "metadata": {},
   "outputs": [],
   "source": [
    "info = select_on_Lcode('-608')"
   ]
  },
  {
   "cell_type": "code",
   "execution_count": 13,
   "metadata": {},
   "outputs": [
    {
     "ename": "SyntaxError",
     "evalue": "invalid syntax (<ipython-input-13-0000592d27cc>, line 1)",
     "output_type": "error",
     "traceback": [
      "\u001b[0;36m  File \u001b[0;32m\"<ipython-input-13-0000592d27cc>\"\u001b[0;36m, line \u001b[0;32m1\u001b[0m\n\u001b[0;31m    def bar_base(name_y,x,y,title == None,subtitle == None ) -> Bar:\u001b[0m\n\u001b[0m                                   ^\u001b[0m\n\u001b[0;31mSyntaxError\u001b[0m\u001b[0;31m:\u001b[0m invalid syntax\n"
     ]
    }
   ],
   "source": [
    "def bar_base(name_y,x,y,title == None,subtitle == None ) -> Bar:\n",
    "    c = (\n",
    "        Bar()\n",
    "        .add_xaxis(x)\n",
    "        .add_yaxis(name_y[0],y[0])\n",
    "        .set_global_opts(title_opts=opts.TitleOpts(title= title, subtitle=subtitle))\n",
    "    )\n",
    "    return c\n",
    "bar_base(info[0],info[1],info[2]).render_notebook()"
   ]
  },
  {
   "cell_type": "code",
   "execution_count": null,
   "metadata": {},
   "outputs": [],
   "source": []
  }
 ],
 "metadata": {
  "kernelspec": {
   "display_name": "Python 3",
   "language": "python",
   "name": "python3"
  },
  "language_info": {
   "codemirror_mode": {
    "name": "ipython",
    "version": 3
   },
   "file_extension": ".py",
   "mimetype": "text/x-python",
   "name": "python",
   "nbconvert_exporter": "python",
   "pygments_lexer": "ipython3",
   "version": "3.7.4"
  },
  "widgets": {
   "application/vnd.jupyter.widget-state+json": {
    "state": {},
    "version_major": 2,
    "version_minor": 0
   }
  }
 },
 "nbformat": 4,
 "nbformat_minor": 2
}
